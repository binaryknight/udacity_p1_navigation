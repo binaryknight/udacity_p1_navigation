{
 "cells": [
  {
   "cell_type": "markdown",
   "metadata": {},
   "source": [
    "# Udacity Navigation Project Submission\n",
    "\n",
    "* This notebook contains the code to run and evaluate an agent which learns using the double DQN algorithm. \n",
    "\n",
    "\n",
    "* The following files contain the main body of code:\n",
    "  * navigation.py          : Contains the train and run functions.\n",
    "  * src/double_dqn_agent.py: Contains the double DQN algorithm implementation\n",
    "  * src/model.py           : Contains the neural network implemented using PyTorch.\n",
    "\n",
    "\n",
    "* In addition, an agent using the  DQN algorithm can be found in\n",
    "  * src/dqn_agent.py    \n",
    "\n",
    "\n",
    "* The weights of the trained neural network can be found in\n",
    "  * model.pt\n",
    "\n",
    "\n",
    "* The weights of the target neural network can be found in\n",
    " * model_target.pt\n",
    "\n",
    "\n",
    "* Details of setting up the environment can be found in:\n",
    "  * README.md\n",
    "\n",
    "\n",
    "* Details of the double DQN algorithm can be found in: \n",
    "  * REPORT.md"
   ]
  },
  {
   "cell_type": "markdown",
   "metadata": {},
   "source": [
    "## Importing the necessary modules"
   ]
  },
  {
   "cell_type": "code",
   "execution_count": 2,
   "metadata": {},
   "outputs": [],
   "source": [
    "import pdb\n",
    "import numpy      as np\n",
    "import navigation as nav\n",
    "import matplotlib.pyplot as plt\n",
    "%matplotlib inline"
   ]
  },
  {
   "cell_type": "markdown",
   "metadata": {},
   "source": [
    "## Loading the unity environment"
   ]
  },
  {
   "cell_type": "code",
   "execution_count": 4,
   "metadata": {},
   "outputs": [
    {
     "name": "stderr",
     "output_type": "stream",
     "text": [
      "INFO:unityagents:\n",
      "'Academy' started successfully!\n",
      "Unity Academy name: Academy\n",
      "        Number of Brains: 1\n",
      "        Number of External Brains : 1\n",
      "        Lesson number : 0\n",
      "        Reset Parameters :\n",
      "\t\t\n",
      "Unity brain name: BananaBrain\n",
      "        Number of Visual Observations (per agent): 0\n",
      "        Vector Observation space type: continuous\n",
      "        Vector Observation space size (per agent): 37\n",
      "        Number of stacked Vector Observation: 1\n",
      "        Vector Action space type: discrete\n",
      "        Vector Action space size (per agent): 4\n",
      "        Vector Action descriptions: , , , \n"
     ]
    }
   ],
   "source": [
    "### Load the unity environment\n",
    "from unityagents import UnityEnvironment\n",
    "env    = UnityEnvironment(file_name=\"Banana.app\")"
   ]
  },
  {
   "cell_type": "markdown",
   "metadata": {},
   "source": [
    "## Training \n",
    "\n",
    "* The agent is trained using the double DQN algorithm\n",
    "* The maximum number of episodes can be specified using    the `num_episodes`    parameter\n",
    "* The minimum desired average score can be specified using the `min_performance` parameter\n",
    "* The number of recent scores used in computing the average can be specified using the `window_size` parameter\n"
   ]
  },
  {
   "cell_type": "code",
   "execution_count": null,
   "metadata": {},
   "outputs": [
    {
     "name": "stdout",
     "output_type": "stream",
     "text": [
      "Number of agents: 1\n",
      "Number of actions: 4\n",
      "States have length: 37\n",
      "Episode: 601 Score:  12.00 average score: 10.82  over episodes: 100\r"
     ]
    }
   ],
   "source": [
    "### Train the agent\n",
    "###\n",
    "num_episodes,  avg_scores, scores = nav.train(  env\n",
    "                                           , num_episodes = 1800 \n",
    "                                           , min_performance = 13\n",
    "                                           , window_size     = 100  )\n"
   ]
  },
  {
   "cell_type": "markdown",
   "metadata": {},
   "source": [
    "## Plotting the Scores and Average Scores"
   ]
  },
  {
   "cell_type": "code",
   "execution_count": null,
   "metadata": {},
   "outputs": [],
   "source": [
    "### Plot the reward and the average reward\n",
    "fig = plt.figure()\n",
    "ax  = fig.add_subplot(111)\n",
    "plt.plot(np.arange(len(scores)), scores)\n",
    "plt.plot(np.arange(len(avg_scores)), avg_scores)\n",
    "plt.ylabel('Score and Average Scores ')\n",
    "plt.xlabel('Episode')\n",
    "plt.legend(['Score', 'Average Score'], loc = 'upper left')\n",
    "plt.show()\n"
   ]
  },
  {
   "cell_type": "markdown",
   "metadata": {},
   "source": [
    "## Evaluate the Agent"
   ]
  },
  {
   "cell_type": "code",
   "execution_count": null,
   "metadata": {},
   "outputs": [],
   "source": [
    "# Run the trained agent one more time with the saved weights\n",
    "score = nav.run(env, num_episodes = 1, local_filename = 'model.pt')\n",
    "print(\"\"\"The score for the run is: {:d}\"\"\".format(int(score[0])))"
   ]
  },
  {
   "cell_type": "markdown",
   "metadata": {},
   "source": [
    "## Close the Environment"
   ]
  },
  {
   "cell_type": "code",
   "execution_count": null,
   "metadata": {},
   "outputs": [],
   "source": [
    "env.close()"
   ]
  }
 ],
 "metadata": {
  "kernelspec": {
   "display_name": "drlnd",
   "language": "python",
   "name": "drlnd"
  },
  "language_info": {
   "codemirror_mode": {
    "name": "ipython",
    "version": 3
   },
   "file_extension": ".py",
   "mimetype": "text/x-python",
   "name": "python",
   "nbconvert_exporter": "python",
   "pygments_lexer": "ipython3",
   "version": "3.6.9"
  }
 },
 "nbformat": 4,
 "nbformat_minor": 2
}
