{
 "cells": [
  {
   "cell_type": "markdown",
   "metadata": {},
   "source": [
    "# Udacity Navigation Project Submission\n",
    "\n",
    "* This notebook contains the code to run and evaluate an agent which learns using the double DQN algorithm. \n",
    "\n",
    "\n",
    "* The following files contain the main body of code:\n",
    "  * navigation.py          : Contains the train and run functions.\n",
    "  * src/double_dqn_agent.py: Contains the double DQN algorithm implementation\n",
    "  * src/model.py           : Contains the neural network implemented using PyTorch.\n",
    "\n",
    "\n",
    "* In addition, an agent using the  DQN algorithm can be found in\n",
    "  * src/dqn_agent.py    \n",
    "\n",
    "\n",
    "* The weights of the trained neural network can be found in\n",
    "  * model.pt\n",
    "\n",
    "\n",
    "* The weights of the target neural network can be found in\n",
    " * model_target.pt\n",
    "\n",
    "\n",
    "* Details of setting up the environment can be found in:\n",
    "  * README.md\n",
    "\n",
    "\n",
    "* Details of the double DQN algorithm can be found in: \n",
    "  * REPORT.md"
   ]
  },
  {
   "cell_type": "markdown",
   "metadata": {},
   "source": [
    "## Importing the necessary modules"
   ]
  },
  {
   "cell_type": "code",
   "execution_count": 2,
   "metadata": {},
   "outputs": [],
   "source": [
    "import pdb\n",
    "import numpy      as np\n",
    "import navigation as nav\n",
    "import matplotlib.pyplot as plt\n",
    "%matplotlib inline"
   ]
  },
  {
   "cell_type": "markdown",
   "metadata": {},
   "source": [
    "## Loading the unity environment"
   ]
  },
  {
   "cell_type": "code",
   "execution_count": null,
   "metadata": {},
   "outputs": [],
   "source": [
    "### Load the unity environment\n",
    "from unityagents import UnityEnvironment\n",
    "env    = UnityEnvironment(file_name=\"Banana.app\")"
   ]
  },
  {
   "cell_type": "markdown",
   "metadata": {},
   "source": [
    "## Training \n",
    "\n",
    "* The agent is trained using the double DQN algorithm\n",
    "* The maximum number of episodes can be specified using    the `num_episodes`    parameter\n",
    "* The minimum desired average score can be specified using the `min_performance` parameter\n",
    "* The number of recent scores used in computing the average can be specified using the `window_size` parameter\n"
   ]
  },
  {
   "cell_type": "code",
   "execution_count": 3,
   "metadata": {},
   "outputs": [
    {
     "ename": "NameError",
     "evalue": "name 'env' is not defined",
     "output_type": "error",
     "traceback": [
      "\u001b[0;31m---------------------------------------------------------------------------\u001b[0m",
      "\u001b[0;31mNameError\u001b[0m                                 Traceback (most recent call last)",
      "\u001b[0;32m<ipython-input-3-c4a8a52ab6a6>\u001b[0m in \u001b[0;36m<module>\u001b[0;34m\u001b[0m\n\u001b[1;32m      1\u001b[0m \u001b[0;31m### Train the agent\u001b[0m\u001b[0;34m\u001b[0m\u001b[0;34m\u001b[0m\u001b[0;34m\u001b[0m\u001b[0m\n\u001b[1;32m      2\u001b[0m \u001b[0;31m###\u001b[0m\u001b[0;34m\u001b[0m\u001b[0;34m\u001b[0m\u001b[0;34m\u001b[0m\u001b[0m\n\u001b[0;32m----> 3\u001b[0;31m num_episodes,  avg_scores, scores = nav.train(  env\n\u001b[0m\u001b[1;32m      4\u001b[0m                                            \u001b[0;34m,\u001b[0m \u001b[0mnum_episodes\u001b[0m \u001b[0;34m=\u001b[0m \u001b[0;36m1800\u001b[0m\u001b[0;34m\u001b[0m\u001b[0;34m\u001b[0m\u001b[0m\n\u001b[1;32m      5\u001b[0m                                            \u001b[0;34m,\u001b[0m \u001b[0mmin_performance\u001b[0m \u001b[0;34m=\u001b[0m \u001b[0;36m13\u001b[0m\u001b[0;34m\u001b[0m\u001b[0;34m\u001b[0m\u001b[0m\n",
      "\u001b[0;31mNameError\u001b[0m: name 'env' is not defined"
     ]
    }
   ],
   "source": [
    "### Train the agent\n",
    "###\n",
    "num_episodes,  avg_scores, scores = nav.train(  env\n",
    "                                           , num_episodes = 1800 \n",
    "                                           , min_performance = 13\n",
    "                                           , window_size     = 100  )\n"
   ]
  },
  {
   "cell_type": "markdown",
   "metadata": {},
   "source": [
    "## Plotting the Scores and Average Scores"
   ]
  },
  {
   "cell_type": "code",
   "execution_count": null,
   "metadata": {},
   "outputs": [],
   "source": [
    "### Plot the reward and the average reward\n",
    "fig = plt.figure()\n",
    "ax  = fig.add_subplot(111)\n",
    "plt.plot(np.arange(len(scores)), scores)\n",
    "plt.plot(np.arange(len(avg_scores)), avg_scores)\n",
    "plt.ylabel('Score and Average Scores ')\n",
    "plt.xlabel('Episode')\n",
    "plt.legend(['Score', 'Average Score'], loc = 'upper left')\n",
    "plt.show()\n"
   ]
  },
  {
   "cell_type": "markdown",
   "metadata": {},
   "source": [
    "## Evaluate the Agent"
   ]
  },
  {
   "cell_type": "code",
   "execution_count": null,
   "metadata": {},
   "outputs": [],
   "source": [
    "# Run the trained agent one more time with the saved weights\n",
    "score = nav.run(env, num_episodes = 1, local_filename = 'model.pt')\n",
    "print(\"\"\"The score for the run is: {:d}\"\"\".format(int(score[0])))"
   ]
  },
  {
   "cell_type": "markdown",
   "metadata": {},
   "source": [
    "## Close the Environment"
   ]
  },
  {
   "cell_type": "code",
   "execution_count": null,
   "metadata": {},
   "outputs": [],
   "source": [
    "env.close()"
   ]
  }
 ],
 "metadata": {
  "kernelspec": {
   "display_name": "drlnd",
   "language": "python",
   "name": "drlnd"
  },
  "language_info": {
   "codemirror_mode": {
    "name": "ipython",
    "version": 3
   },
   "file_extension": ".py",
   "mimetype": "text/x-python",
   "name": "python",
   "nbconvert_exporter": "python",
   "pygments_lexer": "ipython3",
   "version": "3.6.9"
  }
 },
 "nbformat": 4,
 "nbformat_minor": 2
}
